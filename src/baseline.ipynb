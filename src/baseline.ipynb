{
 "cells": [
  {
   "cell_type": "code",
   "execution_count": 2,
   "metadata": {},
   "outputs": [],
   "source": [
    "import pandas as pd\n",
    "import numpy as np\n",
    "import os \n",
    "import warnings\n",
    "warnings.filterwarnings('ignore')"
   ]
  },
  {
   "cell_type": "code",
   "execution_count": 3,
   "metadata": {},
   "outputs": [],
   "source": [
    "from sklearn.svm import LinearSVC\n",
    "from sklearn.decomposition import PCA"
   ]
  },
  {
   "cell_type": "code",
   "execution_count": null,
   "metadata": {},
   "outputs": [],
   "source": []
  },
  {
   "cell_type": "code",
   "execution_count": 31,
   "metadata": {},
   "outputs": [],
   "source": [
    "def split_by_test_id(df, test_ids):\n",
    "    \n",
    "    test_set = df.iloc[test_ids]\n",
    "    test_y = test_set[['education_type']]\n",
    "    test_x = test_set.drop('education_type', axis=1)\n",
    "\n",
    "    train_set = df.drop(test_ids, axis=0)\n",
    "    train_y = train_set[['education_type']]\n",
    "    train_x = train_set.drop('education_type', axis=1)\n",
    "    \n",
    "    return train_x, train_y, test_x, test_y"
   ]
  },
  {
   "cell_type": "markdown",
   "metadata": {},
   "source": [
    "## Load Data"
   ]
  },
  {
   "cell_type": "code",
   "execution_count": 5,
   "metadata": {},
   "outputs": [],
   "source": [
    "data_folder = '../dataset'"
   ]
  },
  {
   "cell_type": "code",
   "execution_count": 5,
   "metadata": {},
   "outputs": [],
   "source": [
    "adj_matrix = pd.read_csv(os.path.join(data_folder, 'total_matrix.csv'))\n",
    "\n",
    "pca = PCA(svd_solver='randomized')  # n_components=min(n_samples, n_features)\n",
    "pca.fit(adj_matrix)\n",
    "ratio = pca.explained_variance_ratio_"
   ]
  },
  {
   "cell_type": "code",
   "execution_count": 17,
   "metadata": {},
   "outputs": [
    {
     "name": "stdout",
     "output_type": "stream",
     "text": [
      "877\n",
      "0.9001068341588159\n"
     ]
    }
   ],
   "source": [
    "n_count = 870\n",
    "sum_variance = sum(ratio[:870])\n",
    "for r in ratio[870:]:\n",
    "    sum_variance += r\n",
    "    n_count += 1\n",
    "    if sum_variance > 0.9:\n",
    "        break\n",
    "print(n_count)\n",
    "print(sum_variance)"
   ]
  },
  {
   "cell_type": "code",
   "execution_count": 18,
   "metadata": {},
   "outputs": [],
   "source": [
    "pca = PCA(n_components=877, svd_solver='randomized')\n",
    "pca_adj_mat = pca.fit_transform(adj_matrix)\n",
    "\n",
    "pca_am_df = pd.DataFrame(pca_adj_mat)"
   ]
  },
  {
   "cell_type": "code",
   "execution_count": 33,
   "metadata": {},
   "outputs": [],
   "source": [
    "feature_global = pd.read_csv(os.path.join(data_folder, 'feature_df_2.csv'))"
   ]
  },
  {
   "cell_type": "code",
   "execution_count": 43,
   "metadata": {},
   "outputs": [
    {
     "data": {
      "text/plain": [
       "1031"
      ]
     },
     "execution_count": 43,
     "metadata": {},
     "output_type": "execute_result"
    }
   ],
   "source": [
    "pca_am_df['education_type'] = feature_global['education_type']\n",
    "# len(pca_am_df[pca_am_df['education_type'] ==0])"
   ]
  },
  {
   "cell_type": "code",
   "execution_count": 27,
   "metadata": {},
   "outputs": [],
   "source": [
    "with open(os.path.join(data_folder, 'test_node.txt')) as f:\n",
    "    test_ids = [int(node.strip()) for node in f.readlines()]"
   ]
  },
  {
   "cell_type": "code",
   "execution_count": null,
   "metadata": {},
   "outputs": [],
   "source": [
    "# test_set = pca_am_df.iloc[test_ids]\n",
    "# test_y = test_set[['education_type']]\n",
    "# test_x = test_set.drop('education_type', axis=1)\n",
    "\n",
    "# train_set = pca_am_df.drop(test_ids, axis=0)\n",
    "# train_y = train_set[['education_type']]\n",
    "# train_x = train_set.drop('education_type', axis=1)\n",
    "\n",
    "train_x, train_y, test_x, test_y = split_by_test_id(pca_am_df, test_ids)"
   ]
  },
  {
   "cell_type": "code",
   "execution_count": 59,
   "metadata": {},
   "outputs": [],
   "source": [
    "X_train, X_test, y_train, y_test = train_test_split(train_x, train_y, test_size=0.2, random_state=42)"
   ]
  },
  {
   "cell_type": "markdown",
   "metadata": {},
   "source": [
    "## Baseline "
   ]
  },
  {
   "cell_type": "code",
   "execution_count": 37,
   "metadata": {},
   "outputs": [],
   "source": [
    "from sklearn.linear_model import LogisticRegression\n",
    "from sklearn.model_selection import train_test_split, cross_val_score\n",
    "from sklearn.metrics import accuracy_score\n",
    "from xgboost import XGBClassifier"
   ]
  },
  {
   "cell_type": "code",
   "execution_count": 64,
   "metadata": {},
   "outputs": [],
   "source": [
    "lr = LogisticRegression(penalty='l2', solver='saga', multi_class='multinomial')\n",
    "lr.fit(X_train, y_train)"
   ]
  },
  {
   "cell_type": "code",
   "execution_count": 68,
   "metadata": {},
   "outputs": [
    {
     "name": "stdout",
     "output_type": "stream",
     "text": [
      "0.571625344352617\n"
     ]
    }
   ],
   "source": [
    "y_pred = lr.predict(X_test)\n",
    "accu = accuracy_score(y_test, y_pred)\n",
    "print(accu)"
   ]
  },
  {
   "cell_type": "code",
   "execution_count": 74,
   "metadata": {},
   "outputs": [
    {
     "data": {
      "text/plain": [
       "0.37082837279160646"
      ]
     },
     "execution_count": 74,
     "metadata": {},
     "output_type": "execute_result"
    }
   ],
   "source": [
    "np.average(cross_val_score(lr, train_x, train_y, cv=5))"
   ]
  },
  {
   "cell_type": "markdown",
   "metadata": {},
   "source": [
    "### XGBOOST"
   ]
  },
  {
   "cell_type": "code",
   "execution_count": 81,
   "metadata": {},
   "outputs": [],
   "source": [
    "xgb_clf = XGBClassifier(max_depth=3,\n",
    "                        n_estimators=1000,  \n",
    "                        objective='multi:softprob',\n",
    "                        seed=0, \n",
    "                        silent=True, \n",
    "                        learning_rate=0.001)\n",
    "\n",
    "xgb_clf.fit(X_train, y_train)\n",
    "y_pred = xgb_clf.predict(X_test)\n",
    "accu = accuracy_score(y_test, y_pred)"
   ]
  },
  {
   "cell_type": "code",
   "execution_count": 82,
   "metadata": {},
   "outputs": [
    {
     "data": {
      "text/plain": [
       "0.6253443526170799"
      ]
     },
     "execution_count": 82,
     "metadata": {},
     "output_type": "execute_result"
    }
   ],
   "source": [
    "accu"
   ]
  },
  {
   "cell_type": "code",
   "execution_count": 83,
   "metadata": {},
   "outputs": [
    {
     "data": {
      "text/plain": [
       "0.4962693889761476"
      ]
     },
     "execution_count": 83,
     "metadata": {},
     "output_type": "execute_result"
    }
   ],
   "source": [
    "xgb_clf = XGBClassifier(max_depth=3,\n",
    "                        n_estimators=1000,  \n",
    "                        objective='multi:softprob',\n",
    "                        seed=0, \n",
    "                        silent=True, \n",
    "                        learning_rate=0.001)\n",
    "np.average(cross_val_score(xgb_clf, train_x, train_y, cv=5))"
   ]
  },
  {
   "cell_type": "markdown",
   "metadata": {},
   "source": [
    "# Shortest Path Mat"
   ]
  },
  {
   "cell_type": "code",
   "execution_count": 40,
   "metadata": {},
   "outputs": [],
   "source": [
    "shortest_paths = pd.read_csv(os.path.join(data_folder, 'shortest_path.csv'))"
   ]
  },
  {
   "cell_type": "code",
   "execution_count": 41,
   "metadata": {},
   "outputs": [],
   "source": [
    "pca = PCA(svd_solver='randomized')  # n_components=min(n_samples, n_features)\n",
    "pca.fit(shortest_paths)\n",
    "ratio = pca.explained_variance_ratio_"
   ]
  },
  {
   "cell_type": "code",
   "execution_count": 42,
   "metadata": {},
   "outputs": [
    {
     "data": {
      "text/plain": [
       "0.9770768841021783"
      ]
     },
     "execution_count": 42,
     "metadata": {},
     "output_type": "execute_result"
    }
   ],
   "source": [
    "np.sum(ratio[:5])"
   ]
  },
  {
   "cell_type": "code",
   "execution_count": 43,
   "metadata": {},
   "outputs": [],
   "source": [
    "pca = PCA(n_components=10, svd_solver='randomized')\n",
    "pca_spm = pca.fit_transform(shortest_paths)\n",
    "pca_spm = pd.DataFrame(pca_spm)\n",
    "pca_spm['education_type'] = feature_global['education_type']"
   ]
  },
  {
   "cell_type": "code",
   "execution_count": 44,
   "metadata": {},
   "outputs": [],
   "source": [
    "train_x, train_y, test_x, test_y = split_by_test_id(pca_spm, test_ids)"
   ]
  },
  {
   "cell_type": "code",
   "execution_count": 45,
   "metadata": {},
   "outputs": [
    {
     "name": "stdout",
     "output_type": "stream",
     "text": [
      "train_test: 0.6547619047619048\n",
      "cv: [0.08390646 0.64049587 0.62534435 0.6262069  0.07596685]\n",
      "cv: 0.410384086538095\n"
     ]
    }
   ],
   "source": [
    "# Linear Model -- Softmax\n",
    "\n",
    "lr = LogisticRegression(penalty='l2', solver='saga', multi_class='multinomial')\n",
    "lr.fit(train_x, train_y)\n",
    "y_pred = lr.predict(test_x)\n",
    "accu = accuracy_score(test_y, y_pred)\n",
    "print('train_test:', accu)\n",
    "\n",
    "lr = LogisticRegression(penalty='l2', solver='saga', multi_class='multinomial')\n",
    "cv_val = cross_val_score(lr, train_x, train_y, cv=5)\n",
    "print('cv:', cv_val)\n",
    "print('cv:', np.average(cv_val))"
   ]
  },
  {
   "cell_type": "code",
   "execution_count": 46,
   "metadata": {},
   "outputs": [
    {
     "name": "stdout",
     "output_type": "stream",
     "text": [
      "train_test: 0.6642857142857143\n",
      "cv: [0.38927098 0.62396694 0.62534435 0.63034483 0.3480663 ]\n",
      "cv: 0.5233986794621639\n"
     ]
    }
   ],
   "source": [
    "# XGBoost Classidier\n",
    "\n",
    "xgb_clf = XGBClassifier(max_depth=3,\n",
    "                        n_estimators=1000,  \n",
    "                        objective='multi:softprob',\n",
    "                        seed=0, \n",
    "                        silent=True, \n",
    "                        learning_rate=0.001)\n",
    "xgb_clf.fit(train_x, train_y)\n",
    "y_pred = xgb_clf.predict(test_x)\n",
    "accu = accuracy_score(test_y, y_pred)\n",
    "print('train_test:', accu)\n",
    "\n",
    "xgb_clf = XGBClassifier(max_depth=3,\n",
    "                        n_estimators=1000,  \n",
    "                        objective='multi:softprob',\n",
    "                        seed=0, \n",
    "                        silent=True, \n",
    "                        learning_rate=0.001)\n",
    "xgb_clf.fit(train_x, train_y)\n",
    "cv_val = cross_val_score(xgb_clf, train_x, train_y, cv=5)\n",
    "print('cv:', cv_val)\n",
    "print('cv:', np.average(cv_val))"
   ]
  },
  {
   "cell_type": "code",
   "execution_count": null,
   "metadata": {},
   "outputs": [],
   "source": []
  }
 ],
 "metadata": {
  "kernelspec": {
   "display_name": "py36",
   "language": "python",
   "name": "py36"
  },
  "language_info": {
   "codemirror_mode": {
    "name": "ipython",
    "version": 3
   },
   "file_extension": ".py",
   "mimetype": "text/x-python",
   "name": "python",
   "nbconvert_exporter": "python",
   "pygments_lexer": "ipython3",
   "version": "3.6.8"
  }
 },
 "nbformat": 4,
 "nbformat_minor": 2
}
